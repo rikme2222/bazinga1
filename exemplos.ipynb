{
  "nbformat": 4,
  "nbformat_minor": 0,
  "metadata": {
    "colab": {
      "provenance": [],
      "authorship_tag": "ABX9TyN7iTVvWnGl5NfV7Q8ihXU0",
      "include_colab_link": true
    },
    "kernelspec": {
      "name": "python3",
      "display_name": "Python 3"
    },
    "language_info": {
      "name": "python"
    }
  },
  "cells": [
    {
      "cell_type": "markdown",
      "metadata": {
        "id": "view-in-github",
        "colab_type": "text"
      },
      "source": [
        "<a href=\"https://colab.research.google.com/github/rikme2222/bazinga1/blob/main/exemplos.ipynb\" target=\"_parent\"><img src=\"https://colab.research.google.com/assets/colab-badge.svg\" alt=\"Open In Colab\"/></a>"
      ]
    },
    {
      "cell_type": "code",
      "source": [
        "#Crie uma funçao que valida senhas, ela deve verificar se a senha tem mais de 8 caracteres 1 caracteres especiais diferentes o return deve ser True ou FALSE\n",
        "\n",
        "def validar_senha(senha):\n",
        "  caracterias_especiais = \"!@#$%¨&*\"\n",
        "\n",
        "  if len(senha) > 8 and any(char in caracteres_especiasis for char in senha):\n",
        "    return True\n",
        "  else:\n",
        "    return False\n",
        "\n",
        "senha1 = input(\"Digite sua senha: \")\n",
        "\n",
        "validar_senha(senha1)"
      ],
      "metadata": {
        "id": "xnSZm7fhQ0EC"
      },
      "execution_count": null,
      "outputs": []
    }
  ]
}